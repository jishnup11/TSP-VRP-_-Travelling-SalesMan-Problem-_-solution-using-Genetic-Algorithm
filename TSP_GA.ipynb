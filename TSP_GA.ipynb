{
 "cells": [
  {
   "cell_type": "markdown",
   "metadata": {
    "colab": {},
    "colab_type": "code",
    "id": "l7RzkBU0C8oX"
   },
   "source": [
    " "
   ]
  },
  {
   "cell_type": "markdown",
   "metadata": {
    "colab": {},
    "colab_type": "code",
    "id": "OmWEcW8RC8dS"
   },
   "source": [
    "# Vehicle Routing Problem\n",
    "The vehicle routing problem (VRP) is a combinatorial optimization and integer \n",
    "programming problem seeking to service a number of customers with a fleet of vehicles. \n",
    "VRP is an important problem in the fields of transportation, distribution and logistics. Often \n",
    "the context is that of delivering goods located at a central depot to customers who have \n",
    "placed orders for such goods. Implicit is the goal of minimizing the cost of distributing the \n",
    "goods. Many methods have been developed for searching for good solutions to the \n",
    "problem, but finding global minimum for the cost function is computationally complex.\n",
    "\n",
    "Design and develop a genotype model for representing VRP, and also develop an \n",
    "Evolutionary Algorithm that can evolve candidate solutions and find the solution."
   ]
  },
  {
   "cell_type": "markdown",
   "metadata": {
    "colab": {},
    "colab_type": "code",
    "id": "hiNd1Mq1C8Q5"
   },
   "source": [
    "We are considering the cost function as the distance covered to travel through all the cities exactly once.\n",
    "We are reducing the the VRP to travelling salesman problem by the assumption that\n",
    "* If we can reduce the distance travelled to cover the longest route, then we can then we can complete the each route with mininal time and there by accomplish delivery of larger number of orders by allocating multiple routes to vehicle which completes the delivery fast and there by we can reduce the cost and maximise the profit.\n",
    "## Travelling salesman Problem\n",
    "\n",
    "Constraints\n",
    "* Each city needs to be visited exactly one time\n",
    "* We must return to the starting city, so our total distance needs to be calculated accordingly\n",
    "\n",
    "opimisation problem\n",
    "* Our objective is to minimize the distance travelled by saleseman(here vehicle) to travell through all the cities."
   ]
  },
  {
   "cell_type": "code",
   "execution_count": null,
   "metadata": {
    "colab": {},
    "colab_type": "code",
    "id": "AVqEQxA3C8H7"
   },
   "outputs": [],
   "source": []
  },
  {
   "cell_type": "markdown",
   "metadata": {
    "colab": {},
    "colab_type": "code",
    "id": "qtUueGn9C7_s"
   },
   "source": [
    "# Design of Experiments\n",
    "GA"
   ]
  },
  {
   "cell_type": "markdown",
   "metadata": {
    "colab": {},
    "colab_type": "code",
    "id": "I20sZgt1C7xB"
   },
   "source": [
    "* Representation\t--------               Permutation of Integer tuples which represents the city\n",
    "\n",
    "\n",
    "* Fitness          --------   \t           Inverse of the route distance\n",
    "\n",
    "\n",
    "* Recombination\t     --------           ordered crossover, elitism size 20\t\n",
    "\n",
    "\n",
    "* Mutation\t           --------          Swap\n",
    "\n",
    "\n",
    "* Mutation Probability\t --------        0.01\n",
    "\n",
    "\n",
    "* Parent Selection\t      --------       Best 2 \n",
    "\n",
    "\n",
    "* Survival Selection\t      --------       rank, roulette wheel, elitislm 20\n",
    "\n",
    "\n",
    "* Population size\t            --------     100\n",
    "\n",
    "\n",
    "* Number of Offspring\t        --------     2\n",
    "\n",
    "\n",
    "* Initialization \t          --------       Random\n",
    "\n",
    "\n",
    "* Termination condition\t     --------    500 generations"
   ]
  },
  {
   "cell_type": "code",
   "execution_count": null,
   "metadata": {},
   "outputs": [],
   "source": []
  },
  {
   "cell_type": "code",
   "execution_count": null,
   "metadata": {},
   "outputs": [],
   "source": []
  },
  {
   "cell_type": "markdown",
   "metadata": {},
   "source": [
    "# Program Development"
   ]
  },
  {
   "cell_type": "code",
   "execution_count": 18,
   "metadata": {
    "colab": {},
    "colab_type": "code",
    "id": "BTqbFWNK17Vs"
   },
   "outputs": [],
   "source": [
    "import numpy as np\n",
    "import  random\n",
    "import operator\n",
    "import  pandas as pd\n",
    "import matplotlib.pyplot as plt"
   ]
  },
  {
   "cell_type": "code",
   "execution_count": null,
   "metadata": {
    "colab": {},
    "colab_type": "code",
    "id": "z2bDHnBWC6wF"
   },
   "outputs": [],
   "source": []
  },
  {
   "cell_type": "code",
   "execution_count": 19,
   "metadata": {
    "colab": {},
    "colab_type": "code",
    "id": "y83KRhRH18QE"
   },
   "outputs": [],
   "source": [
    "\n",
    "class City:\n",
    "    def __init__(self, x, y):\n",
    "        self.x = x\n",
    "        self.y = y\n",
    "    \n",
    "    def distance(self, city):\n",
    "        xDis = abs(self.x - city.x)\n",
    "        yDis = abs(self.y - city.y)\n",
    "        distance = np.sqrt((xDis ** 2) + (yDis ** 2)) #Euclidian distance\n",
    "        return distance\n",
    "    \n",
    "    def __repr__(self):\n",
    "        return \"(\" + str(self.x) + \",\" + str(self.y) + \")\""
   ]
  },
  {
   "cell_type": "code",
   "execution_count": 20,
   "metadata": {
    "colab": {},
    "colab_type": "code",
    "id": "PuSZ5Smi3SOc"
   },
   "outputs": [],
   "source": [
    "# Fitness function\n",
    "\n",
    "class Fitness:\n",
    "    def __init__(self, route):\n",
    "        self.route = route\n",
    "        self.distance = 0\n",
    "        self.fitness= 0.0\n",
    "    \n",
    "    def routeDistance(self):\n",
    "        if self.distance ==0:\n",
    "            pathDistance = 0\n",
    "            for i in range(0, len(self.route)):\n",
    "                fromCity = self.route[i]\n",
    "                toCity = None\n",
    "                if i + 1 < len(self.route):\n",
    "                    toCity = self.route[i + 1]\n",
    "                else:\n",
    "                    toCity = self.route[0]\n",
    "                pathDistance += fromCity.distance(toCity)\n",
    "            self.distance = pathDistance\n",
    "        return self.distance\n",
    "    \n",
    "    def routeFitness(self):\n",
    "        if self.fitness == 0:\n",
    "            self.fitness = 1 / float(self.routeDistance()) # we are taking the inverse so that to perform minimisation of distance. Larger fitness permitted\n",
    "        return self.fitness"
   ]
  },
  {
   "cell_type": "code",
   "execution_count": 21,
   "metadata": {
    "colab": {},
    "colab_type": "code",
    "id": "H_ndB68I3zhS"
   },
   "outputs": [],
   "source": [
    "# Initial population\n",
    "def createRoute(cityList):\n",
    "    route = random.sample(cityList, len(cityList))\n",
    "    return route\n",
    "def initialPopulation(popSize, cityList):\n",
    "    population = []\n",
    "\n",
    "    for i in range(0, popSize):\n",
    "        population.append(createRoute(cityList))\n",
    "    return population\n"
   ]
  },
  {
   "cell_type": "code",
   "execution_count": 22,
   "metadata": {
    "colab": {},
    "colab_type": "code",
    "id": "qn9XJLaV4FPi"
   },
   "outputs": [],
   "source": [
    "#rank base selection\n",
    "\n",
    "def rankRoutes(population):\n",
    "    fitnessResults = {}\n",
    "    for i in range(0,len(population)):\n",
    "        fitnessResults[i] = Fitness(population[i]).routeFitness()\n",
    "    return sorted(fitnessResults.items(), key = operator.itemgetter(1), reverse = True)\n",
    "\n",
    "def selection(popRanked, eliteSize):\n",
    "    selectionResults = []\n",
    "    df = pd.DataFrame(np.array(popRanked), columns=[\"Index\",\"Fitness\"])\n",
    "    df['cum_sum'] = df.Fitness.cumsum()\n",
    "    df['cum_perc'] = 100*df.cum_sum/df.Fitness.sum() # Roulette wheel selection\n",
    "    #print(df)\n",
    "    for i in range(0, eliteSize):   #Elitism to make sure that the fittest individuals are permitted to next gen properly\n",
    "        selectionResults.append(popRanked[i][0])\n",
    "    for i in range(0, len(popRanked) - eliteSize):\n",
    "        pick = 100*random.random()\n",
    "        #pick\n",
    "        #print(df.iat[i,3])\n",
    "        for i in range(0, len(popRanked)):\n",
    "            if pick <= df.iat[i,3]:\n",
    "                \n",
    "                selectionResults.append(popRanked[i][0])\n",
    "                break\n",
    "    return selectionResults"
   ]
  },
  {
   "cell_type": "code",
   "execution_count": 23,
   "metadata": {
    "colab": {},
    "colab_type": "code",
    "id": "SozYDrRz4Ufy"
   },
   "outputs": [],
   "source": [
    "# Mating pool # adding the selected candidates from previous step\n",
    "def matingPool(population, selectionResults):\n",
    "    matingpool = []\n",
    "    for i in range(0, len(selectionResults)):\n",
    "        index = selectionResults[i]\n",
    "        matingpool.append(population[index])\n",
    "    return matingpool"
   ]
  },
  {
   "cell_type": "code",
   "execution_count": 24,
   "metadata": {
    "colab": {},
    "colab_type": "code",
    "id": "4rhkxoTi4hRC"
   },
   "outputs": [],
   "source": [
    "#Crossover #ordered crossover\n",
    "def breed(parent1, parent2):\n",
    "    child = []\n",
    "    childP1 = []\n",
    "    childP2 = []\n",
    "    \n",
    "    geneA = int(random.random() * len(parent1))\n",
    "    geneB = int(random.random() * len(parent1))\n",
    "    \n",
    "    startGene = min(geneA, geneB)\n",
    "    endGene = max(geneA, geneB)\n",
    "\n",
    "    for i in range(startGene, endGene):\n",
    "        childP1.append(parent1[i])\n",
    "        \n",
    "    childP2 = [item for item in parent2 if item not in childP1]\n",
    "\n",
    "    child = childP1 + childP2\n",
    "    return child\n",
    "def breedPopulation(matingpool, eliteSize):  # Elitism - to make sure that the fittest individuals are permitted to next gen properly\n",
    "    children = []\n",
    "    length = len(matingpool) - eliteSize\n",
    "    pool = random.sample(matingpool, len(matingpool))\n",
    "\n",
    "    for i in range(0,eliteSize):\n",
    "        children.append(matingpool[i])\n",
    "    \n",
    "    for i in range(0, length):\n",
    "        child = breed(pool[i], pool[len(matingpool)-i-1])\n",
    "        children.append(child)\n",
    "    return children"
   ]
  },
  {
   "cell_type": "code",
   "execution_count": 25,
   "metadata": {
    "colab": {},
    "colab_type": "code",
    "id": "zqWwhtDC420Z"
   },
   "outputs": [],
   "source": [
    "#Mutation #swap mutation\n",
    "def mutate(individual, mutationRate):\n",
    "    for swapped in range(len(individual)):\n",
    "        if(random.random() < mutationRate):\n",
    "            swapWith = int(random.random() * len(individual))\n",
    "            \n",
    "            city1 = individual[swapped]\n",
    "            city2 = individual[swapWith]\n",
    "            \n",
    "            individual[swapped] = city2\n",
    "            individual[swapWith] = city1\n",
    "    return individual\n",
    "def mutatePopulation(population, mutationRate):\n",
    "    mutatedPop = []\n",
    "    \n",
    "    for ind in range(0, len(population)):\n",
    "        mutatedInd = mutate(population[ind], mutationRate)\n",
    "        mutatedPop.append(mutatedInd)\n",
    "    return mutatedPop"
   ]
  },
  {
   "cell_type": "code",
   "execution_count": 26,
   "metadata": {
    "colab": {},
    "colab_type": "code",
    "id": "ne17yJB75A2K"
   },
   "outputs": [],
   "source": [
    "#survivor selection # putting altogather the steps we have done before\n",
    "def nextGeneration(currentGen, eliteSize, mutationRate):\n",
    "    popRanked = rankRoutes(currentGen)\n",
    "    selectionResults = selection(popRanked, eliteSize)\n",
    "    #print(len(selectionResults))\n",
    "    matingpool = matingPool(currentGen, selectionResults)\n",
    "    children = breedPopulation(matingpool, eliteSize)\n",
    "    #print(len(children))\n",
    "    nextGeneration = mutatePopulation(children, mutationRate)\n",
    "    return nextGeneration"
   ]
  },
  {
   "cell_type": "code",
   "execution_count": 27,
   "metadata": {
    "colab": {},
    "colab_type": "code",
    "id": "_maUxtpR5NbC"
   },
   "outputs": [],
   "source": [
    "#GA\n",
    "def geneticAlgorithm(population, popSize, eliteSize, mutationRate, generations):\n",
    "    pop = initialPopulation(popSize, population)\n",
    "    print(pop)\n",
    "    print(\"Initial distance: \" + str(1 / rankRoutes(pop)[0][1]))\n",
    "    \n",
    "    for i in range(0, generations):\n",
    "        pop = nextGeneration(pop, eliteSize, mutationRate)\n",
    "    \n",
    "    print(\"Final distance: \" + str(1 / rankRoutes(pop)[0][1]))\n",
    "  \n",
    "    bestRouteIndex = rankRoutes(pop)[0][0]\n",
    "    bestRoute = pop[bestRouteIndex]\n",
    "    return bestRoute"
   ]
  },
  {
   "cell_type": "markdown",
   "metadata": {},
   "source": [
    "# Output"
   ]
  },
  {
   "cell_type": "code",
   "execution_count": 39,
   "metadata": {
    "colab": {
     "base_uri": "https://localhost:8080/",
     "height": 513
    },
    "colab_type": "code",
    "id": "LPlxEDOt5WeS",
    "outputId": "7e2f870a-be2c-484a-d6d2-8a7c0af38ba4"
   },
   "outputs": [
    {
     "name": "stdout",
     "output_type": "stream",
     "text": [
      "[[(117,96), (157,143), (163,33), (95,160), (8,34), (107,77), (0,27), (142,180), (50,88), (124,84)], [(107,77), (117,96), (50,88), (142,180), (8,34), (124,84), (95,160), (163,33), (157,143), (0,27)], [(95,160), (117,96), (50,88), (142,180), (124,84), (157,143), (0,27), (163,33), (107,77), (8,34)], [(124,84), (117,96), (0,27), (50,88), (107,77), (142,180), (95,160), (8,34), (163,33), (157,143)], [(163,33), (142,180), (8,34), (124,84), (0,27), (50,88), (107,77), (95,160), (157,143), (117,96)], [(157,143), (0,27), (107,77), (142,180), (124,84), (95,160), (163,33), (117,96), (50,88), (8,34)], [(107,77), (157,143), (124,84), (163,33), (0,27), (95,160), (142,180), (8,34), (117,96), (50,88)], [(142,180), (0,27), (117,96), (124,84), (107,77), (8,34), (95,160), (163,33), (50,88), (157,143)], [(107,77), (163,33), (0,27), (117,96), (157,143), (142,180), (50,88), (8,34), (124,84), (95,160)], [(163,33), (142,180), (117,96), (107,77), (0,27), (95,160), (8,34), (50,88), (124,84), (157,143)], [(107,77), (142,180), (8,34), (95,160), (117,96), (50,88), (124,84), (163,33), (0,27), (157,143)], [(157,143), (0,27), (107,77), (50,88), (8,34), (142,180), (163,33), (124,84), (95,160), (117,96)], [(142,180), (0,27), (163,33), (8,34), (50,88), (117,96), (157,143), (107,77), (95,160), (124,84)], [(157,143), (142,180), (107,77), (95,160), (117,96), (124,84), (163,33), (50,88), (8,34), (0,27)], [(50,88), (157,143), (163,33), (124,84), (8,34), (0,27), (95,160), (117,96), (107,77), (142,180)], [(117,96), (107,77), (163,33), (124,84), (50,88), (0,27), (8,34), (157,143), (142,180), (95,160)], [(163,33), (107,77), (8,34), (117,96), (95,160), (142,180), (157,143), (124,84), (50,88), (0,27)], [(142,180), (95,160), (163,33), (124,84), (0,27), (117,96), (8,34), (107,77), (50,88), (157,143)], [(157,143), (95,160), (0,27), (117,96), (163,33), (142,180), (107,77), (8,34), (124,84), (50,88)], [(163,33), (157,143), (50,88), (95,160), (8,34), (142,180), (0,27), (107,77), (117,96), (124,84)], [(8,34), (107,77), (95,160), (50,88), (157,143), (0,27), (163,33), (142,180), (124,84), (117,96)], [(163,33), (117,96), (124,84), (157,143), (0,27), (95,160), (8,34), (50,88), (142,180), (107,77)], [(8,34), (142,180), (95,160), (157,143), (117,96), (163,33), (50,88), (0,27), (124,84), (107,77)], [(142,180), (157,143), (50,88), (95,160), (124,84), (107,77), (0,27), (163,33), (117,96), (8,34)], [(157,143), (142,180), (163,33), (0,27), (95,160), (124,84), (107,77), (8,34), (50,88), (117,96)], [(163,33), (50,88), (157,143), (142,180), (8,34), (124,84), (107,77), (95,160), (117,96), (0,27)], [(50,88), (0,27), (107,77), (142,180), (117,96), (163,33), (157,143), (124,84), (95,160), (8,34)], [(50,88), (117,96), (8,34), (0,27), (163,33), (142,180), (95,160), (157,143), (124,84), (107,77)], [(124,84), (142,180), (157,143), (95,160), (0,27), (50,88), (117,96), (163,33), (107,77), (8,34)], [(8,34), (124,84), (107,77), (142,180), (157,143), (0,27), (95,160), (163,33), (50,88), (117,96)], [(142,180), (95,160), (157,143), (8,34), (107,77), (163,33), (117,96), (50,88), (0,27), (124,84)], [(95,160), (124,84), (107,77), (157,143), (142,180), (0,27), (117,96), (8,34), (163,33), (50,88)], [(163,33), (50,88), (95,160), (107,77), (124,84), (8,34), (142,180), (117,96), (0,27), (157,143)], [(8,34), (163,33), (95,160), (107,77), (0,27), (117,96), (50,88), (124,84), (157,143), (142,180)], [(142,180), (163,33), (95,160), (107,77), (157,143), (0,27), (124,84), (50,88), (117,96), (8,34)], [(107,77), (142,180), (163,33), (95,160), (50,88), (117,96), (8,34), (124,84), (157,143), (0,27)], [(107,77), (95,160), (8,34), (124,84), (142,180), (50,88), (163,33), (0,27), (117,96), (157,143)], [(50,88), (117,96), (157,143), (95,160), (107,77), (163,33), (142,180), (8,34), (0,27), (124,84)], [(0,27), (142,180), (117,96), (95,160), (8,34), (50,88), (163,33), (157,143), (124,84), (107,77)], [(157,143), (142,180), (50,88), (107,77), (124,84), (8,34), (0,27), (117,96), (163,33), (95,160)], [(117,96), (124,84), (0,27), (107,77), (95,160), (157,143), (163,33), (8,34), (142,180), (50,88)], [(157,143), (117,96), (50,88), (142,180), (124,84), (107,77), (95,160), (8,34), (163,33), (0,27)], [(163,33), (0,27), (8,34), (157,143), (117,96), (50,88), (142,180), (95,160), (107,77), (124,84)], [(163,33), (0,27), (142,180), (107,77), (157,143), (8,34), (50,88), (95,160), (124,84), (117,96)], [(107,77), (95,160), (163,33), (117,96), (0,27), (157,143), (8,34), (142,180), (124,84), (50,88)], [(163,33), (0,27), (117,96), (50,88), (8,34), (157,143), (107,77), (95,160), (142,180), (124,84)], [(8,34), (117,96), (95,160), (157,143), (124,84), (163,33), (142,180), (107,77), (0,27), (50,88)], [(8,34), (95,160), (0,27), (142,180), (117,96), (157,143), (50,88), (163,33), (124,84), (107,77)], [(124,84), (163,33), (157,143), (107,77), (50,88), (142,180), (117,96), (8,34), (0,27), (95,160)], [(107,77), (124,84), (8,34), (50,88), (0,27), (117,96), (142,180), (163,33), (157,143), (95,160)], [(163,33), (50,88), (107,77), (157,143), (117,96), (8,34), (95,160), (0,27), (124,84), (142,180)], [(142,180), (124,84), (0,27), (117,96), (50,88), (163,33), (8,34), (107,77), (157,143), (95,160)], [(124,84), (107,77), (142,180), (95,160), (0,27), (117,96), (163,33), (157,143), (8,34), (50,88)], [(142,180), (107,77), (163,33), (95,160), (0,27), (157,143), (117,96), (8,34), (124,84), (50,88)], [(95,160), (50,88), (0,27), (124,84), (163,33), (157,143), (117,96), (142,180), (8,34), (107,77)], [(50,88), (8,34), (95,160), (0,27), (117,96), (157,143), (124,84), (107,77), (142,180), (163,33)], [(107,77), (8,34), (0,27), (142,180), (117,96), (163,33), (95,160), (50,88), (157,143), (124,84)], [(117,96), (107,77), (8,34), (124,84), (163,33), (0,27), (157,143), (95,160), (142,180), (50,88)], [(157,143), (107,77), (95,160), (124,84), (142,180), (8,34), (117,96), (163,33), (0,27), (50,88)], [(8,34), (124,84), (50,88), (0,27), (157,143), (142,180), (95,160), (163,33), (117,96), (107,77)], [(142,180), (95,160), (117,96), (50,88), (8,34), (0,27), (124,84), (107,77), (163,33), (157,143)], [(50,88), (117,96), (8,34), (0,27), (163,33), (124,84), (142,180), (95,160), (107,77), (157,143)], [(117,96), (50,88), (163,33), (107,77), (157,143), (142,180), (95,160), (0,27), (8,34), (124,84)], [(0,27), (157,143), (163,33), (95,160), (50,88), (124,84), (8,34), (117,96), (107,77), (142,180)], [(50,88), (0,27), (95,160), (107,77), (117,96), (8,34), (142,180), (124,84), (157,143), (163,33)], [(107,77), (142,180), (0,27), (95,160), (117,96), (50,88), (124,84), (157,143), (163,33), (8,34)], [(124,84), (107,77), (0,27), (142,180), (50,88), (163,33), (157,143), (117,96), (8,34), (95,160)], [(50,88), (95,160), (107,77), (0,27), (163,33), (8,34), (124,84), (117,96), (142,180), (157,143)], [(107,77), (50,88), (117,96), (157,143), (163,33), (8,34), (95,160), (142,180), (124,84), (0,27)], [(117,96), (107,77), (142,180), (124,84), (0,27), (157,143), (50,88), (95,160), (8,34), (163,33)], [(8,34), (163,33), (124,84), (107,77), (0,27), (157,143), (50,88), (142,180), (95,160), (117,96)], [(0,27), (8,34), (95,160), (117,96), (107,77), (142,180), (50,88), (157,143), (163,33), (124,84)], [(157,143), (142,180), (0,27), (95,160), (8,34), (50,88), (124,84), (107,77), (117,96), (163,33)], [(0,27), (8,34), (50,88), (163,33), (157,143), (107,77), (142,180), (124,84), (95,160), (117,96)], [(95,160), (8,34), (0,27), (50,88), (124,84), (142,180), (117,96), (163,33), (157,143), (107,77)], [(157,143), (117,96), (8,34), (50,88), (124,84), (0,27), (163,33), (95,160), (142,180), (107,77)], [(0,27), (117,96), (142,180), (95,160), (50,88), (124,84), (8,34), (157,143), (107,77), (163,33)], [(0,27), (50,88), (117,96), (142,180), (124,84), (107,77), (163,33), (157,143), (95,160), (8,34)], [(163,33), (107,77), (8,34), (157,143), (117,96), (50,88), (0,27), (142,180), (124,84), (95,160)], [(0,27), (157,143), (95,160), (117,96), (107,77), (50,88), (142,180), (124,84), (163,33), (8,34)], [(8,34), (163,33), (50,88), (117,96), (157,143), (124,84), (107,77), (95,160), (142,180), (0,27)], [(50,88), (8,34), (157,143), (142,180), (117,96), (95,160), (107,77), (124,84), (0,27), (163,33)], [(95,160), (107,77), (0,27), (157,143), (8,34), (142,180), (117,96), (50,88), (124,84), (163,33)], [(50,88), (0,27), (117,96), (157,143), (107,77), (163,33), (95,160), (142,180), (124,84), (8,34)], [(95,160), (50,88), (117,96), (124,84), (157,143), (8,34), (0,27), (107,77), (163,33), (142,180)], [(142,180), (50,88), (0,27), (117,96), (157,143), (124,84), (107,77), (95,160), (163,33), (8,34)], [(163,33), (117,96), (124,84), (95,160), (142,180), (157,143), (8,34), (107,77), (0,27), (50,88)], [(157,143), (117,96), (142,180), (107,77), (8,34), (95,160), (163,33), (0,27), (50,88), (124,84)], [(107,77), (163,33), (124,84), (142,180), (95,160), (0,27), (117,96), (50,88), (157,143), (8,34)], [(50,88), (95,160), (117,96), (0,27), (163,33), (142,180), (8,34), (107,77), (157,143), (124,84)], [(157,143), (95,160), (163,33), (142,180), (124,84), (8,34), (0,27), (107,77), (50,88), (117,96)], [(95,160), (0,27), (117,96), (107,77), (8,34), (50,88), (157,143), (124,84), (163,33), (142,180)], [(8,34), (107,77), (157,143), (50,88), (95,160), (124,84), (142,180), (117,96), (0,27), (163,33)], [(107,77), (163,33), (117,96), (95,160), (0,27), (124,84), (50,88), (157,143), (142,180), (8,34)], [(0,27), (8,34), (163,33), (142,180), (124,84), (107,77), (157,143), (117,96), (95,160), (50,88)], [(107,77), (8,34), (124,84), (50,88), (142,180), (0,27), (163,33), (95,160), (117,96), (157,143)], [(0,27), (95,160), (142,180), (117,96), (8,34), (124,84), (107,77), (157,143), (163,33), (50,88)], [(157,143), (124,84), (0,27), (50,88), (95,160), (107,77), (163,33), (8,34), (142,180), (117,96)], [(142,180), (117,96), (107,77), (50,88), (124,84), (95,160), (8,34), (157,143), (0,27), (163,33)], [(0,27), (95,160), (142,180), (8,34), (50,88), (163,33), (117,96), (107,77), (124,84), (157,143)]]\n",
      "Initial distance: 641.4352979654643\n"
     ]
    },
    {
     "name": "stdout",
     "output_type": "stream",
     "text": [
      "Final distance: 582.7853599672717\n"
     ]
    },
    {
     "data": {
      "text/plain": [
       "[(8,34),\n",
       " (0,27),\n",
       " (107,77),\n",
       " (117,96),\n",
       " (124,84),\n",
       " (163,33),\n",
       " (157,143),\n",
       " (142,180),\n",
       " (95,160),\n",
       " (50,88)]"
      ]
     },
     "execution_count": 39,
     "metadata": {},
     "output_type": "execute_result"
    }
   ],
   "source": [
    "# run\n",
    "cityList = []\n",
    "\n",
    "for i in range(0,25): # number of cities can be varied here.\n",
    "    cityList.append(City(x=int(random.random() * 200), y=int(random.random() * 200)))\n",
    "\n",
    "geneticAlgorithm(population=cityList, popSize=100, eliteSize=20, mutationRate=0.01, generations=500)"
   ]
  },
  {
   "cell_type": "code",
   "execution_count": null,
   "metadata": {},
   "outputs": [],
   "source": []
  },
  {
   "cell_type": "code",
   "execution_count": 29,
   "metadata": {
    "colab": {},
    "colab_type": "code",
    "id": "faEe8UeK5qHa"
   },
   "outputs": [],
   "source": [
    "# visualization\n",
    "def geneticAlgorithmPlot(population, popSize, eliteSize, mutationRate, generations):\n",
    "    pop = initialPopulation(popSize, population)\n",
    "    progress = []\n",
    "    progress.append(1 / rankRoutes(pop)[0][1])\n",
    "    \n",
    "    for i in range(0, generations):\n",
    "        pop = nextGeneration(pop, eliteSize, mutationRate)\n",
    "        progress.append(1 / rankRoutes(pop)[0][1])\n",
    "    \n",
    "    plt.plot(progress)\n",
    "    plt.ylabel('Distance')\n",
    "    plt.xlabel('Generation')\n",
    "    plt.show()\n"
   ]
  },
  {
   "cell_type": "code",
   "execution_count": 30,
   "metadata": {
    "colab": {
     "base_uri": "https://localhost:8080/",
     "height": 279
    },
    "colab_type": "code",
    "id": "CdBFy6oF5-zy",
    "outputId": "b6a3d172-50e9-4b94-f3a3-6d2d2494c415"
   },
   "outputs": [
    {
     "data": {
      "image/png": "[encoded data removed]",
      "text/plain": [
       "<Figure size 432x288 with 1 Axes>"
      ]
     },
     "metadata": {
      "needs_background": "light"
     },
     "output_type": "display_data"
    }
   ],
   "source": [
    "geneticAlgorithmPlot(population=cityList, popSize=100, eliteSize=20, mutationRate=0.01, generations=500)"
   ]
  },
  {
   "cell_type": "markdown",
   "metadata": {},
   "source": [
    "# OUT2"
   ]
  },
  {
   "cell_type": "code",
   "execution_count": 31,
   "metadata": {
    "colab": {},
    "colab_type": "code",
    "id": "ZOFc2usH6BqK"
   },
   "outputs": [
    {
     "name": "stdout",
     "output_type": "stream",
     "text": [
      "[[(173,11), (63,181), (48,63), (106,126), (85,130), (173,10), (4,147), (126,166), (174,53), (129,23), (142,189), (79,7), (9,30), (154,63), (38,103), (120,138), (23,2), (110,67), (164,117), (116,153), (109,146), (27,84), (75,83), (16,158), (116,43)], [(126,166), (173,11), (4,147), (173,10), (79,7), (174,53), (164,117), (110,67), (154,63), (23,2), (38,103), (129,23), (27,84), (109,146), (142,189), (48,63), (9,30), (106,126), (116,153), (120,138), (16,158), (116,43), (85,130), (75,83), (63,181)], [(110,67), (120,138), (16,158), (129,23), (142,189), (116,43), (75,83), (38,103), (164,117), (173,10), (126,166), (23,2), (48,63), (4,147), (63,181), (27,84), (85,130), (154,63), (106,126), (174,53), (109,146), (9,30), (79,7), (116,153), (173,11)], [(106,126), (116,43), (154,63), (48,63), (85,130), (27,84), (174,53), (116,153), (142,189), (173,11), (120,138), (126,166), (23,2), (110,67), (75,83), (173,10), (109,146), (38,103), (79,7), (9,30), (63,181), (164,117), (16,158), (129,23), (4,147)], [(164,117), (174,53), (173,11), (116,43), (129,23), (142,189), (109,146), (154,63), (85,130), (173,10), (16,158), (75,83), (23,2), (38,103), (27,84), (63,181), (126,166), (110,67), (106,126), (79,7), (48,63), (9,30), (120,138), (4,147), (116,153)], [(63,181), (109,146), (85,130), (173,10), (116,153), (48,63), (110,67), (75,83), (23,2), (9,30), (16,158), (173,11), (106,126), (27,84), (126,166), (129,23), (120,138), (116,43), (4,147), (154,63), (164,117), (38,103), (79,7), (174,53), (142,189)], [(120,138), (109,146), (142,189), (110,67), (23,2), (9,30), (174,53), (129,23), (116,43), (164,117), (27,84), (116,153), (38,103), (173,10), (106,126), (154,63), (126,166), (63,181), (4,147), (16,158), (75,83), (48,63), (79,7), (173,11), (85,130)], [(116,153), (9,30), (4,147), (27,84), (120,138), (79,7), (173,11), (116,43), (173,10), (129,23), (164,117), (38,103), (106,126), (23,2), (16,158), (126,166), (110,67), (48,63), (142,189), (63,181), (85,130), (109,146), (174,53), (154,63), (75,83)], [(4,147), (9,30), (63,181), (126,166), (129,23), (16,158), (27,84), (23,2), (109,146), (106,126), (116,153), (173,11), (120,138), (48,63), (79,7), (164,117), (174,53), (116,43), (142,189), (154,63), (75,83), (38,103), (110,67), (173,10), (85,130)], [(23,2), (27,84), (164,117), (173,10), (4,147), (173,11), (109,146), (16,158), (38,103), (116,153), (110,67), (75,83), (116,43), (79,7), (129,23), (9,30), (154,63), (142,189), (85,130), (63,181), (120,138), (48,63), (174,53), (106,126), (126,166)], [(109,146), (173,10), (116,43), (63,181), (110,67), (116,153), (106,126), (174,53), (154,63), (79,7), (173,11), (27,84), (23,2), (9,30), (75,83), (142,189), (16,158), (4,147), (38,103), (129,23), (164,117), (85,130), (48,63), (120,138), (126,166)], [(85,130), (48,63), (63,181), (126,166), (110,67), (9,30), (116,153), (75,83), (142,189), (164,117), (129,23), (27,84), (79,7), (4,147), (173,10), (106,126), (109,146), (38,103), (173,11), (174,53), (16,158), (154,63), (120,138), (23,2), (116,43)], [(38,103), (174,53), (48,63), (120,138), (4,147), (63,181), (142,189), (79,7), (75,83), (109,146), (126,166), (110,67), (173,11), (129,23), (27,84), (164,117), (16,158), (116,153), (116,43), (9,30), (173,10), (85,130), (154,63), (106,126), (23,2)], [(173,10), (154,63), (116,153), (120,138), (75,83), (126,166), (142,189), (116,43), (164,117), (48,63), (16,158), (38,103), (9,30), (110,67), (85,130), (129,23), (23,2), (27,84), (63,181), (4,147), (106,126), (173,11), (174,53), (109,146), (79,7)], [(110,67), (63,181), (27,84), (4,147), (173,11), (9,30), (116,43), (173,10), (164,117), (116,153), (109,146), (75,83), (174,53), (38,103), (85,130), (120,138), (16,158), (48,63), (126,166), (129,23), (154,63), (142,189), (23,2), (106,126), (79,7)], [(109,146), (129,23), (164,117), (38,103), (142,189), (85,130), (154,63), (27,84), (116,43), (16,158), (23,2), (126,166), (9,30), (173,10), (116,153), (174,53), (75,83), (110,67), (106,126), (63,181), (120,138), (48,63), (79,7), (173,11), (4,147)], [(4,147), (173,11), (116,153), (38,103), (116,43), (142,189), (126,166), (79,7), (120,138), (23,2), (16,158), (110,67), (85,130), (48,63), (109,146), (63,181), (9,30), (106,126), (27,84), (174,53), (173,10), (129,23), (154,63), (75,83), (164,117)], [(154,63), (9,30), (173,11), (106,126), (85,130), (116,153), (142,189), (16,158), (63,181), (129,23), (109,146), (120,138), (48,63), (116,43), (75,83), (110,67), (4,147), (173,10), (38,103), (164,117), (126,166), (23,2), (27,84), (79,7), (174,53)], [(116,153), (154,63), (173,10), (38,103), (142,189), (174,53), (16,158), (85,130), (4,147), (48,63), (23,2), (106,126), (120,138), (110,67), (126,166), (109,146), (79,7), (9,30), (116,43), (27,84), (173,11), (164,117), (129,23), (63,181), (75,83)], [(4,147), (174,53), (129,23), (154,63), (164,117), (173,11), (85,130), (142,189), (109,146), (126,166), (75,83), (63,181), (48,63), (173,10), (23,2), (79,7), (27,84), (9,30), (16,158), (106,126), (116,43), (120,138), (116,153), (110,67), (38,103)], [(173,11), (116,153), (116,43), (27,84), (109,146), (48,63), (38,103), (126,166), (9,30), (85,130), (142,189), (4,147), (75,83), (16,158), (164,117), (174,53), (23,2), (173,10), (129,23), (154,63), (120,138), (106,126), (110,67), (79,7), (63,181)], [(154,63), (79,7), (85,130), (9,30), (174,53), (23,2), (109,146), (173,10), (116,153), (38,103), (126,166), (164,117), (75,83), (48,63), (120,138), (173,11), (129,23), (27,84), (142,189), (16,158), (116,43), (4,147), (63,181), (106,126), (110,67)], [(9,30), (75,83), (120,138), (164,117), (116,153), (142,189), (173,11), (63,181), (16,158), (23,2), (48,63), (109,146), (154,63), (110,67), (116,43), (27,84), (4,147), (129,23), (79,7), (38,103), (126,166), (85,130), (174,53), (106,126), (173,10)], [(110,67), (79,7), (9,30), (164,117), (85,130), (173,10), (116,153), (48,63), (27,84), (173,11), (106,126), (174,53), (38,103), (63,181), (4,147), (116,43), (154,63), (16,158), (23,2), (126,166), (109,146), (75,83), (142,189), (120,138), (129,23)], [(48,63), (4,147), (16,158), (75,83), (116,43), (23,2), (116,153), (173,11), (27,84), (126,166), (174,53), (110,67), (120,138), (109,146), (79,7), (106,126), (38,103), (164,117), (9,30), (142,189), (85,130), (154,63), (173,10), (129,23), (63,181)], [(116,43), (110,67), (38,103), (142,189), (9,30), (85,130), (109,146), (4,147), (48,63), (120,138), (16,158), (173,10), (106,126), (126,166), (63,181), (116,153), (173,11), (164,117), (129,23), (154,63), (174,53), (75,83), (79,7), (27,84), (23,2)], [(116,43), (173,11), (23,2), (106,126), (129,23), (85,130), (63,181), (173,10), (164,117), (110,67), (174,53), (16,158), (75,83), (79,7), (38,103), (4,147), (120,138), (116,153), (154,63), (126,166), (9,30), (142,189), (48,63), (27,84), (109,146)], [(116,153), (173,10), (16,158), (23,2), (27,84), (116,43), (38,103), (173,11), (63,181), (4,147), (48,63), (79,7), (85,130), (109,146), (154,63), (129,23), (75,83), (9,30), (174,53), (126,166), (164,117), (106,126), (110,67), (120,138), (142,189)], [(116,43), (164,117), (154,63), (126,166), (129,23), (142,189), (27,84), (75,83), (173,10), (38,103), (9,30), (173,11), (110,67), (174,53), (109,146), (79,7), (4,147), (63,181), (116,153), (23,2), (16,158), (48,63), (85,130), (120,138), (106,126)], [(173,10), (79,7), (63,181), (154,63), (48,63), (129,23), (164,117), (173,11), (16,158), (4,147), (85,130), (126,166), (174,53), (110,67), (38,103), (116,153), (27,84), (23,2), (106,126), (75,83), (9,30), (120,138), (116,43), (109,146), (142,189)], [(9,30), (173,10), (173,11), (120,138), (23,2), (63,181), (4,147), (126,166), (85,130), (110,67), (129,23), (154,63), (38,103), (27,84), (116,153), (116,43), (142,189), (106,126), (174,53), (48,63), (164,117), (79,7), (75,83), (109,146), (16,158)], [(85,130), (120,138), (142,189), (48,63), (173,11), (75,83), (129,23), (110,67), (4,147), (126,166), (106,126), (174,53), (116,153), (109,146), (164,117), (38,103), (154,63), (173,10), (23,2), (9,30), (63,181), (27,84), (116,43), (16,158), (79,7)], [(85,130), (109,146), (126,166), (120,138), (142,189), (4,147), (9,30), (79,7), (116,43), (38,103), (27,84), (129,23), (173,11), (106,126), (173,10), (174,53), (16,158), (164,117), (63,181), (116,153), (23,2), (75,83), (110,67), (154,63), (48,63)], [(79,7), (129,23), (154,63), (126,166), (109,146), (9,30), (173,10), (173,11), (106,126), (110,67), (48,63), (75,83), (63,181), (38,103), (164,117), (116,43), (142,189), (27,84), (116,153), (16,158), (23,2), (85,130), (120,138), (174,53), (4,147)], [(75,83), (63,181), (120,138), (116,43), (164,117), (106,126), (16,158), (38,103), (174,53), (109,146), (9,30), (173,10), (110,67), (142,189), (85,130), (79,7), (23,2), (48,63), (27,84), (4,147), (126,166), (116,153), (129,23), (173,11), (154,63)], [(23,2), (120,138), (126,166), (110,67), (75,83), (129,23), (63,181), (173,10), (174,53), (48,63), (173,11), (106,126), (4,147), (85,130), (116,153), (164,117), (38,103), (16,158), (116,43), (79,7), (142,189), (9,30), (154,63), (109,146), (27,84)], [(116,153), (63,181), (27,84), (16,158), (174,53), (116,43), (9,30), (48,63), (164,117), (75,83), (110,67), (129,23), (23,2), (79,7), (120,138), (109,146), (38,103), (173,11), (85,130), (154,63), (173,10), (142,189), (106,126), (4,147), (126,166)], [(109,146), (75,83), (106,126), (4,147), (142,189), (126,166), (129,23), (85,130), (38,103), (116,153), (164,117), (27,84), (16,158), (116,43), (174,53), (23,2), (173,11), (79,7), (110,67), (120,138), (9,30), (63,181), (154,63), (48,63), (173,10)], [(110,67), (129,23), (154,63), (120,138), (106,126), (48,63), (126,166), (16,158), (173,10), (142,189), (109,146), (27,84), (9,30), (164,117), (173,11), (79,7), (174,53), (38,103), (75,83), (23,2), (116,153), (85,130), (63,181), (4,147), (116,43)], [(164,117), (142,189), (116,43), (16,158), (126,166), (38,103), (63,181), (23,2), (174,53), (106,126), (129,23), (154,63), (173,10), (27,84), (48,63), (116,153), (79,7), (120,138), (9,30), (110,67), (4,147), (85,130), (75,83), (109,146), (173,11)], [(23,2), (16,158), (110,67), (75,83), (4,147), (173,10), (164,117), (38,103), (9,30), (142,189), (63,181), (48,63), (126,166), (154,63), (116,43), (106,126), (109,146), (27,84), (79,7), (85,130), (174,53), (120,138), (173,11), (129,23), (116,153)], [(129,23), (173,10), (48,63), (27,84), (173,11), (154,63), (106,126), (9,30), (16,158), (116,43), (174,53), (164,117), (116,153), (23,2), (4,147), (75,83), (38,103), (109,146), (85,130), (63,181), (110,67), (79,7), (142,189), (120,138), (126,166)], [(63,181), (173,10), (154,63), (174,53), (85,130), (106,126), (116,153), (129,23), (75,83), (116,43), (4,147), (38,103), (79,7), (126,166), (164,117), (48,63), (173,11), (120,138), (110,67), (16,158), (27,84), (23,2), (142,189), (9,30), (109,146)], [(109,146), (110,67), (4,147), (116,153), (23,2), (106,126), (27,84), (116,43), (154,63), (48,63), (75,83), (173,11), (79,7), (120,138), (16,158), (38,103), (174,53), (9,30), (173,10), (126,166), (142,189), (63,181), (85,130), (164,117), (129,23)], [(23,2), (109,146), (174,53), (142,189), (4,147), (126,166), (116,153), (16,158), (85,130), (38,103), (116,43), (75,83), (154,63), (173,11), (110,67), (79,7), (48,63), (129,23), (120,138), (106,126), (63,181), (164,117), (27,84), (9,30), (173,10)], [(116,43), (173,10), (38,103), (106,126), (109,146), (9,30), (79,7), (16,158), (4,147), (129,23), (63,181), (154,63), (164,117), (110,67), (116,153), (75,83), (120,138), (126,166), (174,53), (27,84), (142,189), (173,11), (23,2), (48,63), (85,130)], [(173,10), (85,130), (129,23), (120,138), (23,2), (116,153), (116,43), (154,63), (106,126), (164,117), (174,53), (173,11), (4,147), (38,103), (27,84), (16,158), (79,7), (75,83), (63,181), (48,63), (142,189), (9,30), (126,166), (109,146), (110,67)], [(16,158), (142,189), (154,63), (27,84), (38,103), (173,11), (9,30), (79,7), (85,130), (173,10), (116,43), (109,146), (110,67), (164,117), (48,63), (129,23), (106,126), (116,153), (63,181), (4,147), (120,138), (174,53), (23,2), (126,166), (75,83)], [(48,63), (142,189), (4,147), (9,30), (16,158), (116,43), (129,23), (120,138), (154,63), (126,166), (75,83), (173,10), (109,146), (27,84), (38,103), (110,67), (174,53), (164,117), (79,7), (116,153), (173,11), (106,126), (85,130), (23,2), (63,181)], [(120,138), (173,11), (109,146), (85,130), (27,84), (154,63), (23,2), (38,103), (75,83), (9,30), (110,67), (129,23), (173,10), (174,53), (126,166), (106,126), (48,63), (142,189), (16,158), (164,117), (4,147), (79,7), (116,153), (63,181), (116,43)], [(154,63), (109,146), (4,147), (38,103), (116,153), (116,43), (9,30), (106,126), (164,117), (129,23), (23,2), (16,158), (27,84), (110,67), (142,189), (63,181), (75,83), (120,138), (126,166), (79,7), (173,10), (173,11), (174,53), (48,63), (85,130)], [(116,43), (116,153), (16,158), (164,117), (75,83), (109,146), (27,84), (9,30), (38,103), (174,53), (23,2), (4,147), (85,130), (63,181), (110,67), (120,138), (106,126), (126,166), (142,189), (173,11), (48,63), (79,7), (154,63), (129,23), (173,10)], [(120,138), (79,7), (27,84), (174,53), (38,103), (4,147), (126,166), (154,63), (116,153), (164,117), (16,158), (85,130), (23,2), (48,63), (110,67), (109,146), (142,189), (173,10), (9,30), (106,126), (75,83), (129,23), (63,181), (173,11), (116,43)], [(23,2), (116,153), (63,181), (129,23), (109,146), (120,138), (4,147), (116,43), (154,63), (9,30), (38,103), (126,166), (142,189), (110,67), (16,158), (106,126), (27,84), (173,10), (85,130), (173,11), (174,53), (75,83), (48,63), (79,7), (164,117)], [(106,126), (120,138), (116,43), (154,63), (63,181), (16,158), (109,146), (116,153), (48,63), (23,2), (79,7), (38,103), (173,10), (126,166), (4,147), (174,53), (129,23), (85,130), (110,67), (142,189), (173,11), (164,117), (27,84), (9,30), (75,83)], [(75,83), (129,23), (173,10), (106,126), (79,7), (154,63), (38,103), (16,158), (173,11), (164,117), (9,30), (142,189), (120,138), (126,166), (109,146), (48,63), (27,84), (116,153), (4,147), (116,43), (23,2), (174,53), (85,130), (110,67), (63,181)], [(116,43), (75,83), (38,103), (164,117), (129,23), (23,2), (48,63), (126,166), (63,181), (120,138), (4,147), (106,126), (142,189), (173,10), (109,146), (27,84), (16,158), (79,7), (85,130), (154,63), (110,67), (173,11), (116,153), (9,30), (174,53)], [(63,181), (9,30), (38,103), (173,10), (116,153), (129,23), (85,130), (154,63), (109,146), (110,67), (27,84), (120,138), (106,126), (116,43), (174,53), (75,83), (4,147), (126,166), (16,158), (142,189), (79,7), (173,11), (164,117), (23,2), (48,63)], [(116,153), (48,63), (38,103), (142,189), (129,23), (110,67), (173,11), (164,117), (23,2), (9,30), (126,166), (75,83), (116,43), (173,10), (154,63), (79,7), (106,126), (27,84), (85,130), (63,181), (109,146), (16,158), (120,138), (174,53), (4,147)], [(9,30), (63,181), (48,63), (106,126), (120,138), (75,83), (142,189), (164,117), (38,103), (79,7), (173,11), (116,153), (109,146), (174,53), (126,166), (23,2), (4,147), (85,130), (16,158), (173,10), (27,84), (110,67), (154,63), (116,43), (129,23)], [(154,63), (75,83), (109,146), (9,30), (27,84), (164,117), (116,153), (16,158), (106,126), (173,10), (48,63), (63,181), (142,189), (129,23), (116,43), (79,7), (174,53), (85,130), (23,2), (173,11), (126,166), (120,138), (4,147), (110,67), (38,103)], [(110,67), (16,158), (142,189), (4,147), (116,43), (126,166), (174,53), (173,10), (173,11), (9,30), (129,23), (75,83), (85,130), (48,63), (27,84), (63,181), (164,117), (38,103), (79,7), (106,126), (154,63), (120,138), (109,146), (23,2), (116,153)], [(9,30), (38,103), (75,83), (120,138), (174,53), (129,23), (154,63), (116,153), (27,84), (142,189), (110,67), (106,126), (85,130), (23,2), (109,146), (79,7), (48,63), (164,117), (4,147), (16,158), (63,181), (173,11), (126,166), (116,43), (173,10)], [(173,10), (109,146), (164,117), (126,166), (120,138), (174,53), (38,103), (129,23), (27,84), (173,11), (9,30), (23,2), (4,147), (63,181), (16,158), (79,7), (48,63), (110,67), (116,43), (116,153), (75,83), (85,130), (154,63), (106,126), (142,189)], [(164,117), (27,84), (110,67), (9,30), (63,181), (23,2), (173,11), (38,103), (48,63), (120,138), (173,10), (154,63), (174,53), (116,153), (75,83), (129,23), (85,130), (106,126), (79,7), (126,166), (109,146), (116,43), (142,189), (4,147), (16,158)], [(110,67), (129,23), (173,11), (116,153), (154,63), (16,158), (126,166), (23,2), (142,189), (4,147), (27,84), (9,30), (85,130), (106,126), (164,117), (174,53), (48,63), (75,83), (38,103), (109,146), (63,181), (173,10), (116,43), (79,7), (120,138)], [(63,181), (38,103), (109,146), (75,83), (85,130), (110,67), (23,2), (27,84), (79,7), (129,23), (174,53), (173,11), (120,138), (9,30), (4,147), (173,10), (164,117), (106,126), (142,189), (154,63), (116,43), (48,63), (116,153), (126,166), (16,158)], [(75,83), (106,126), (173,11), (4,147), (109,146), (27,84), (164,117), (129,23), (116,153), (126,166), (23,2), (79,7), (142,189), (110,67), (173,10), (174,53), (116,43), (48,63), (85,130), (63,181), (16,158), (154,63), (9,30), (38,103), (120,138)], [(38,103), (173,10), (142,189), (164,117), (48,63), (27,84), (154,63), (129,23), (4,147), (116,43), (23,2), (9,30), (75,83), (126,166), (110,67), (116,153), (106,126), (174,53), (79,7), (109,146), (16,158), (120,138), (85,130), (63,181), (173,11)], [(110,67), (23,2), (173,11), (129,23), (174,53), (173,10), (120,138), (27,84), (154,63), (116,153), (109,146), (38,103), (48,63), (106,126), (9,30), (16,158), (116,43), (79,7), (75,83), (4,147), (142,189), (63,181), (85,130), (126,166), (164,117)], [(173,11), (110,67), (173,10), (154,63), (75,83), (63,181), (109,146), (9,30), (79,7), (116,153), (129,23), (85,130), (106,126), (174,53), (38,103), (164,117), (116,43), (126,166), (120,138), (16,158), (48,63), (27,84), (23,2), (4,147), (142,189)], [(27,84), (23,2), (142,189), (120,138), (85,130), (154,63), (4,147), (126,166), (16,158), (164,117), (48,63), (109,146), (129,23), (75,83), (173,11), (106,126), (63,181), (116,153), (38,103), (79,7), (173,10), (116,43), (9,30), (174,53), (110,67)], [(116,153), (154,63), (79,7), (106,126), (129,23), (23,2), (63,181), (142,189), (126,166), (48,63), (116,43), (38,103), (120,138), (174,53), (173,11), (27,84), (109,146), (85,130), (4,147), (16,158), (9,30), (110,67), (75,83), (164,117), (173,10)], [(109,146), (85,130), (164,117), (23,2), (27,84), (120,138), (75,83), (4,147), (38,103), (173,10), (63,181), (16,158), (9,30), (106,126), (79,7), (116,153), (173,11), (142,189), (110,67), (129,23), (126,166), (48,63), (116,43), (174,53), (154,63)], [(38,103), (173,11), (164,117), (110,67), (4,147), (75,83), (79,7), (16,158), (23,2), (129,23), (154,63), (116,43), (63,181), (174,53), (173,10), (126,166), (106,126), (142,189), (109,146), (116,153), (85,130), (27,84), (120,138), (48,63), (9,30)], [(142,189), (38,103), (173,11), (75,83), (116,43), (79,7), (23,2), (164,117), (85,130), (174,53), (63,181), (129,23), (110,67), (106,126), (120,138), (116,153), (109,146), (16,158), (9,30), (48,63), (154,63), (27,84), (126,166), (173,10), (4,147)], [(79,7), (9,30), (16,158), (109,146), (4,147), (154,63), (38,103), (126,166), (23,2), (173,10), (106,126), (116,43), (120,138), (116,153), (48,63), (142,189), (173,11), (164,117), (85,130), (27,84), (63,181), (75,83), (129,23), (174,53), (110,67)], [(27,84), (110,67), (106,126), (9,30), (109,146), (129,23), (116,43), (79,7), (4,147), (154,63), (116,153), (63,181), (120,138), (85,130), (75,83), (126,166), (38,103), (174,53), (23,2), (48,63), (164,117), (142,189), (16,158), (173,10), (173,11)], [(116,153), (106,126), (85,130), (38,103), (48,63), (129,23), (173,11), (126,166), (27,84), (164,117), (23,2), (109,146), (9,30), (4,147), (174,53), (173,10), (16,158), (120,138), (116,43), (75,83), (110,67), (63,181), (79,7), (154,63), (142,189)], [(38,103), (174,53), (85,130), (110,67), (126,166), (4,147), (63,181), (16,158), (173,11), (75,83), (142,189), (48,63), (106,126), (79,7), (120,138), (23,2), (164,117), (27,84), (129,23), (116,43), (109,146), (154,63), (9,30), (173,10), (116,153)], [(120,138), (173,11), (4,147), (38,103), (174,53), (129,23), (154,63), (48,63), (27,84), (116,43), (9,30), (16,158), (109,146), (75,83), (142,189), (79,7), (173,10), (126,166), (106,126), (110,67), (116,153), (85,130), (23,2), (164,117), (63,181)], [(48,63), (174,53), (16,158), (38,103), (63,181), (120,138), (9,30), (85,130), (110,67), (173,10), (173,11), (116,43), (106,126), (79,7), (142,189), (109,146), (164,117), (23,2), (116,153), (129,23), (126,166), (75,83), (4,147), (154,63), (27,84)], [(23,2), (79,7), (120,138), (85,130), (27,84), (164,117), (116,153), (110,67), (129,23), (106,126), (48,63), (38,103), (142,189), (16,158), (109,146), (4,147), (75,83), (126,166), (116,43), (9,30), (174,53), (173,11), (63,181), (173,10), (154,63)], [(116,43), (110,67), (79,7), (173,11), (4,147), (164,117), (48,63), (174,53), (16,158), (38,103), (129,23), (75,83), (126,166), (9,30), (109,146), (142,189), (23,2), (116,153), (27,84), (173,10), (85,130), (154,63), (106,126), (63,181), (120,138)], [(126,166), (173,11), (79,7), (106,126), (63,181), (173,10), (27,84), (109,146), (23,2), (174,53), (38,103), (164,117), (154,63), (142,189), (4,147), (120,138), (129,23), (16,158), (48,63), (110,67), (85,130), (116,43), (75,83), (9,30), (116,153)], [(109,146), (174,53), (79,7), (106,126), (4,147), (38,103), (16,158), (173,11), (48,63), (120,138), (116,43), (129,23), (154,63), (27,84), (126,166), (9,30), (116,153), (173,10), (85,130), (142,189), (164,117), (75,83), (23,2), (63,181), (110,67)], [(109,146), (173,11), (173,10), (116,153), (120,138), (79,7), (142,189), (63,181), (116,43), (106,126), (4,147), (23,2), (154,63), (16,158), (48,63), (38,103), (75,83), (174,53), (129,23), (110,67), (126,166), (27,84), (85,130), (164,117), (9,30)], [(79,7), (173,10), (48,63), (23,2), (129,23), (85,130), (173,11), (154,63), (174,53), (106,126), (109,146), (142,189), (126,166), (116,153), (75,83), (110,67), (16,158), (164,117), (63,181), (9,30), (27,84), (38,103), (120,138), (116,43), (4,147)], [(174,53), (106,126), (116,43), (23,2), (173,10), (75,83), (48,63), (9,30), (4,147), (129,23), (63,181), (38,103), (85,130), (154,63), (142,189), (116,153), (109,146), (79,7), (120,138), (110,67), (16,158), (27,84), (126,166), (164,117), (173,11)], [(23,2), (106,126), (154,63), (142,189), (173,11), (63,181), (174,53), (4,147), (16,158), (173,10), (129,23), (116,153), (109,146), (164,117), (126,166), (116,43), (120,138), (48,63), (9,30), (75,83), (110,67), (38,103), (27,84), (85,130), (79,7)], [(120,138), (126,166), (174,53), (85,130), (164,117), (116,153), (23,2), (109,146), (27,84), (79,7), (106,126), (173,11), (173,10), (16,158), (129,23), (48,63), (63,181), (38,103), (75,83), (110,67), (9,30), (4,147), (116,43), (154,63), (142,189)], [(23,2), (79,7), (4,147), (142,189), (173,11), (116,153), (164,117), (110,67), (48,63), (129,23), (126,166), (27,84), (75,83), (85,130), (173,10), (154,63), (106,126), (109,146), (116,43), (9,30), (16,158), (38,103), (120,138), (174,53), (63,181)], [(173,11), (63,181), (126,166), (9,30), (23,2), (142,189), (75,83), (48,63), (164,117), (27,84), (120,138), (16,158), (174,53), (4,147), (116,43), (116,153), (109,146), (106,126), (38,103), (154,63), (173,10), (79,7), (85,130), (129,23), (110,67)], [(4,147), (63,181), (16,158), (85,130), (120,138), (154,63), (126,166), (173,10), (106,126), (48,63), (9,30), (174,53), (75,83), (79,7), (164,117), (116,153), (27,84), (173,11), (142,189), (110,67), (116,43), (129,23), (23,2), (38,103), (109,146)], [(9,30), (164,117), (142,189), (106,126), (109,146), (126,166), (173,10), (129,23), (173,11), (16,158), (85,130), (48,63), (116,153), (27,84), (23,2), (110,67), (79,7), (4,147), (63,181), (120,138), (38,103), (116,43), (75,83), (154,63), (174,53)], [(116,153), (27,84), (106,126), (173,11), (48,63), (154,63), (174,53), (85,130), (16,158), (173,10), (109,146), (142,189), (120,138), (75,83), (63,181), (23,2), (9,30), (116,43), (79,7), (129,23), (4,147), (164,117), (126,166), (38,103), (110,67)], [(110,67), (173,10), (120,138), (116,153), (4,147), (164,117), (48,63), (109,146), (154,63), (23,2), (16,158), (63,181), (106,126), (142,189), (174,53), (85,130), (129,23), (27,84), (173,11), (116,43), (9,30), (79,7), (75,83), (126,166), (38,103)], [(116,43), (116,153), (173,10), (38,103), (106,126), (154,63), (75,83), (63,181), (164,117), (85,130), (142,189), (16,158), (48,63), (110,67), (126,166), (109,146), (23,2), (9,30), (4,147), (120,138), (79,7), (27,84), (173,11), (129,23), (174,53)], [(120,138), (27,84), (4,147), (164,117), (38,103), (79,7), (126,166), (109,146), (174,53), (116,153), (173,10), (9,30), (75,83), (110,67), (85,130), (23,2), (154,63), (106,126), (116,43), (48,63), (142,189), (173,11), (129,23), (16,158), (63,181)], [(27,84), (79,7), (75,83), (116,153), (116,43), (174,53), (126,166), (16,158), (154,63), (129,23), (109,146), (110,67), (23,2), (142,189), (38,103), (173,10), (173,11), (164,117), (9,30), (4,147), (48,63), (63,181), (106,126), (85,130), (120,138)]]\n",
      "Initial distance: 2116.74858086442\n"
     ]
    },
    {
     "name": "stdout",
     "output_type": "stream",
     "text": [
      "Final distance: 950.1951419822202\n"
     ]
    },
    {
     "data": {
      "text/plain": [
       "[(174,53),\n",
       " (173,11),\n",
       " (173,10),\n",
       " (129,23),\n",
       " (116,43),\n",
       " (79,7),\n",
       " (23,2),\n",
       " (9,30),\n",
       " (48,63),\n",
       " (85,130),\n",
       " (106,126),\n",
       " (120,138),\n",
       " (109,146),\n",
       " (116,153),\n",
       " (126,166),\n",
       " (142,189),\n",
       " (63,181),\n",
       " (16,158),\n",
       " (4,147),\n",
       " (38,103),\n",
       " (27,84),\n",
       " (75,83),\n",
       " (110,67),\n",
       " (164,117),\n",
       " (154,63)]"
      ]
     },
     "execution_count": 31,
     "metadata": {},
     "output_type": "execute_result"
    }
   ],
   "source": [
    "geneticAlgorithm(population=cityList, popSize=100, eliteSize=20, mutationRate=0.01, generations=500)"
   ]
  },
  {
   "cell_type": "code",
   "execution_count": 32,
   "metadata": {},
   "outputs": [
    {
     "data": {
      "image/png": "[encoded data removed]",
      "text/plain": [
       "<Figure size 432x288 with 1 Axes>"
      ]
     },
     "metadata": {
      "needs_background": "light"
     },
     "output_type": "display_data"
    }
   ],
   "source": [
    "geneticAlgorithmPlot(population=cityList, popSize=100, eliteSize=20, mutationRate=0.01, generations=500)"
   ]
  },
  {
   "cell_type": "markdown",
   "metadata": {},
   "source": [
    "# OUT3"
   ]
  },
  {
   "cell_type": "code",
   "execution_count": 35,
   "metadata": {},
   "outputs": [
    {
     "name": "stdout",
     "output_type": "stream",
     "text": [
      "[[(79,7), (164,117), (174,53), (116,43), (110,67), (142,189), (85,130), (27,84), (173,10), (4,147), (109,146), (154,63), (120,138), (48,63), (63,181), (75,83), (126,166), (116,153), (106,126), (129,23), (23,2), (38,103), (16,158), (9,30), (173,11)], [(85,130), (154,63), (75,83), (16,158), (9,30), (173,10), (142,189), (116,153), (164,117), (120,138), (27,84), (116,43), (106,126), (110,67), (109,146), (63,181), (126,166), (23,2), (79,7), (174,53), (129,23), (4,147), (38,103), (173,11), (48,63)], [(129,23), (174,53), (116,153), (164,117), (154,63), (142,189), (85,130), (9,30), (16,158), (63,181), (79,7), (109,146), (48,63), (23,2), (110,67), (27,84), (75,83), (126,166), (173,10), (4,147), (106,126), (120,138), (38,103), (173,11), (116,43)], [(23,2), (126,166), (48,63), (16,158), (173,10), (109,146), (116,153), (174,53), (142,189), (75,83), (27,84), (129,23), (120,138), (106,126), (110,67), (173,11), (4,147), (85,130), (154,63), (164,117), (116,43), (38,103), (79,7), (9,30), (63,181)], [(109,146), (16,158), (4,147), (23,2), (106,126), (110,67), (154,63), (27,84), (116,153), (120,138), (173,11), (164,117), (9,30), (38,103), (63,181), (173,10), (174,53), (116,43), (142,189), (75,83), (126,166), (85,130), (129,23), (79,7), (48,63)], [(106,126), (48,63), (27,84), (174,53), (79,7), (126,166), (109,146), (116,43), (129,23), (16,158), (164,117), (4,147), (120,138), (173,10), (23,2), (9,30), (116,153), (38,103), (75,83), (85,130), (154,63), (173,11), (63,181), (142,189), (110,67)], [(110,67), (27,84), (85,130), (9,30), (173,10), (79,7), (23,2), (116,153), (164,117), (16,158), (116,43), (75,83), (38,103), (109,146), (106,126), (126,166), (63,181), (129,23), (173,11), (174,53), (4,147), (142,189), (48,63), (154,63), (120,138)], [(85,130), (116,43), (9,30), (4,147), (174,53), (63,181), (164,117), (173,11), (142,189), (154,63), (79,7), (75,83), (116,153), (16,158), (129,23), (109,146), (110,67), (38,103), (27,84), (126,166), (48,63), (120,138), (173,10), (106,126), (23,2)], [(174,53), (27,84), (85,130), (173,11), (38,103), (4,147), (79,7), (120,138), (116,153), (164,117), (63,181), (154,63), (106,126), (75,83), (9,30), (173,10), (109,146), (23,2), (116,43), (129,23), (48,63), (142,189), (126,166), (110,67), (16,158)], [(164,117), (79,7), (4,147), (154,63), (110,67), (174,53), (38,103), (63,181), (173,11), (173,10), (75,83), (48,63), (120,138), (106,126), (129,23), (109,146), (142,189), (116,153), (16,158), (116,43), (9,30), (23,2), (85,130), (27,84), (126,166)], [(16,158), (173,10), (23,2), (27,84), (85,130), (142,189), (116,43), (38,103), (129,23), (164,117), (106,126), (126,166), (9,30), (154,63), (120,138), (110,67), (63,181), (174,53), (109,146), (173,11), (4,147), (75,83), (48,63), (79,7), (116,153)], [(75,83), (16,158), (116,43), (173,11), (106,126), (129,23), (4,147), (27,84), (48,63), (63,181), (85,130), (154,63), (173,10), (79,7), (116,153), (174,53), (142,189), (23,2), (110,67), (38,103), (126,166), (109,146), (9,30), (164,117), (120,138)], [(38,103), (164,117), (27,84), (116,43), (23,2), (63,181), (173,11), (129,23), (173,10), (142,189), (79,7), (120,138), (110,67), (109,146), (154,63), (4,147), (48,63), (16,158), (106,126), (174,53), (85,130), (9,30), (116,153), (75,83), (126,166)], [(23,2), (4,147), (116,153), (63,181), (48,63), (126,166), (174,53), (173,11), (106,126), (75,83), (164,117), (27,84), (38,103), (142,189), (173,10), (110,67), (129,23), (154,63), (109,146), (120,138), (79,7), (9,30), (85,130), (16,158), (116,43)], [(164,117), (16,158), (126,166), (9,30), (173,11), (106,126), (110,67), (79,7), (120,138), (116,43), (4,147), (173,10), (75,83), (116,153), (63,181), (109,146), (129,23), (38,103), (27,84), (142,189), (23,2), (85,130), (48,63), (174,53), (154,63)], [(173,11), (142,189), (109,146), (38,103), (129,23), (110,67), (75,83), (154,63), (79,7), (173,10), (85,130), (116,43), (126,166), (9,30), (4,147), (174,53), (164,117), (106,126), (48,63), (23,2), (16,158), (63,181), (27,84), (116,153), (120,138)], [(27,84), (173,10), (38,103), (116,153), (126,166), (142,189), (63,181), (129,23), (154,63), (164,117), (120,138), (109,146), (79,7), (174,53), (110,67), (4,147), (9,30), (48,63), (173,11), (75,83), (16,158), (116,43), (106,126), (85,130), (23,2)], [(23,2), (109,146), (142,189), (38,103), (85,130), (173,11), (164,117), (9,30), (63,181), (173,10), (129,23), (16,158), (48,63), (110,67), (79,7), (75,83), (106,126), (120,138), (4,147), (116,153), (154,63), (116,43), (27,84), (126,166), (174,53)], [(126,166), (27,84), (9,30), (116,43), (106,126), (154,63), (129,23), (85,130), (164,117), (79,7), (142,189), (63,181), (48,63), (75,83), (110,67), (38,103), (23,2), (174,53), (173,10), (173,11), (16,158), (120,138), (4,147), (116,153), (109,146)], [(48,63), (129,23), (120,138), (116,153), (110,67), (173,10), (174,53), (116,43), (9,30), (38,103), (85,130), (63,181), (173,11), (154,63), (142,189), (126,166), (75,83), (4,147), (164,117), (79,7), (23,2), (109,146), (27,84), (106,126), (16,158)], [(9,30), (116,153), (129,23), (75,83), (142,189), (109,146), (116,43), (173,11), (85,130), (110,67), (63,181), (48,63), (4,147), (154,63), (126,166), (164,117), (173,10), (120,138), (27,84), (16,158), (79,7), (106,126), (38,103), (23,2), (174,53)], [(48,63), (142,189), (174,53), (79,7), (164,117), (129,23), (110,67), (4,147), (23,2), (116,153), (116,43), (27,84), (173,10), (154,63), (106,126), (85,130), (75,83), (126,166), (109,146), (63,181), (9,30), (38,103), (120,138), (16,158), (173,11)], [(142,189), (23,2), (126,166), (173,10), (129,23), (174,53), (63,181), (116,43), (106,126), (38,103), (75,83), (48,63), (109,146), (79,7), (85,130), (110,67), (9,30), (4,147), (27,84), (173,11), (164,117), (16,158), (116,153), (120,138), (154,63)], [(106,126), (79,7), (23,2), (116,153), (173,11), (120,138), (126,166), (110,67), (63,181), (38,103), (48,63), (27,84), (9,30), (16,158), (75,83), (174,53), (116,43), (129,23), (164,117), (154,63), (142,189), (109,146), (85,130), (173,10), (4,147)], [(120,138), (79,7), (173,11), (9,30), (142,189), (4,147), (16,158), (174,53), (85,130), (48,63), (63,181), (129,23), (154,63), (23,2), (106,126), (116,43), (173,10), (38,103), (116,153), (164,117), (27,84), (110,67), (109,146), (126,166), (75,83)], [(23,2), (173,11), (79,7), (129,23), (154,63), (173,10), (174,53), (85,130), (48,63), (27,84), (16,158), (109,146), (126,166), (116,153), (38,103), (4,147), (106,126), (142,189), (110,67), (164,117), (116,43), (63,181), (120,138), (75,83), (9,30)], [(142,189), (79,7), (23,2), (173,11), (106,126), (38,103), (110,67), (120,138), (85,130), (129,23), (116,43), (164,117), (109,146), (63,181), (9,30), (16,158), (4,147), (75,83), (116,153), (27,84), (154,63), (173,10), (48,63), (174,53), (126,166)], [(174,53), (79,7), (129,23), (16,158), (4,147), (23,2), (27,84), (120,138), (110,67), (106,126), (173,10), (75,83), (85,130), (109,146), (173,11), (116,153), (9,30), (38,103), (63,181), (116,43), (154,63), (164,117), (142,189), (126,166), (48,63)], [(9,30), (174,53), (27,84), (4,147), (23,2), (116,153), (154,63), (129,23), (126,166), (48,63), (110,67), (173,11), (38,103), (106,126), (75,83), (85,130), (16,158), (164,117), (173,10), (120,138), (116,43), (142,189), (109,146), (63,181), (79,7)], [(154,63), (120,138), (79,7), (75,83), (110,67), (63,181), (27,84), (106,126), (109,146), (142,189), (23,2), (4,147), (48,63), (116,43), (129,23), (174,53), (173,10), (173,11), (16,158), (85,130), (126,166), (164,117), (38,103), (116,153), (9,30)], [(63,181), (75,83), (174,53), (142,189), (109,146), (9,30), (27,84), (116,153), (116,43), (106,126), (120,138), (173,10), (154,63), (38,103), (164,117), (23,2), (85,130), (4,147), (110,67), (173,11), (16,158), (126,166), (79,7), (129,23), (48,63)], [(79,7), (9,30), (109,146), (154,63), (173,10), (27,84), (164,117), (116,153), (63,181), (38,103), (142,189), (110,67), (23,2), (129,23), (120,138), (173,11), (75,83), (48,63), (85,130), (106,126), (126,166), (116,43), (174,53), (4,147), (16,158)], [(48,63), (116,43), (106,126), (79,7), (110,67), (4,147), (164,117), (16,158), (109,146), (126,166), (85,130), (75,83), (129,23), (27,84), (38,103), (63,181), (9,30), (173,11), (174,53), (116,153), (120,138), (23,2), (154,63), (173,10), (142,189)], [(142,189), (116,43), (85,130), (38,103), (129,23), (116,153), (164,117), (48,63), (126,166), (27,84), (63,181), (23,2), (75,83), (154,63), (110,67), (106,126), (173,10), (173,11), (174,53), (79,7), (16,158), (9,30), (4,147), (120,138), (109,146)], [(116,43), (164,117), (126,166), (75,83), (48,63), (63,181), (173,10), (4,147), (154,63), (174,53), (120,138), (16,158), (23,2), (27,84), (116,153), (129,23), (142,189), (109,146), (79,7), (106,126), (38,103), (173,11), (9,30), (85,130), (110,67)], [(126,166), (110,67), (85,130), (79,7), (4,147), (27,84), (129,23), (63,181), (174,53), (120,138), (109,146), (164,117), (75,83), (23,2), (116,153), (16,158), (173,11), (106,126), (116,43), (38,103), (142,189), (173,10), (9,30), (48,63), (154,63)], [(79,7), (142,189), (154,63), (173,10), (129,23), (174,53), (173,11), (110,67), (164,117), (116,43), (75,83), (9,30), (16,158), (4,147), (63,181), (27,84), (38,103), (106,126), (126,166), (109,146), (116,153), (120,138), (85,130), (48,63), (23,2)], [(23,2), (4,147), (116,153), (116,43), (75,83), (154,63), (48,63), (174,53), (79,7), (38,103), (9,30), (142,189), (126,166), (173,11), (129,23), (106,126), (27,84), (173,10), (16,158), (110,67), (85,130), (120,138), (63,181), (109,146), (164,117)], [(173,10), (116,153), (79,7), (110,67), (106,126), (23,2), (4,147), (126,166), (129,23), (109,146), (154,63), (38,103), (173,11), (48,63), (75,83), (9,30), (174,53), (116,43), (27,84), (63,181), (16,158), (120,138), (142,189), (164,117), (85,130)], [(27,84), (9,30), (63,181), (106,126), (164,117), (85,130), (116,153), (142,189), (38,103), (129,23), (16,158), (110,67), (154,63), (23,2), (109,146), (120,138), (173,11), (48,63), (75,83), (79,7), (126,166), (116,43), (174,53), (173,10), (4,147)], [(27,84), (75,83), (23,2), (129,23), (110,67), (38,103), (63,181), (173,11), (116,43), (109,146), (9,30), (16,158), (48,63), (154,63), (173,10), (174,53), (106,126), (120,138), (116,153), (4,147), (126,166), (142,189), (164,117), (85,130), (79,7)], [(9,30), (48,63), (75,83), (129,23), (126,166), (173,10), (110,67), (85,130), (63,181), (173,11), (142,189), (16,158), (109,146), (38,103), (174,53), (106,126), (154,63), (116,43), (79,7), (120,138), (164,117), (116,153), (4,147), (23,2), (27,84)], [(38,103), (27,84), (4,147), (106,126), (142,189), (173,10), (75,83), (116,43), (9,30), (16,158), (129,23), (174,53), (23,2), (63,181), (79,7), (85,130), (126,166), (120,138), (110,67), (109,146), (48,63), (173,11), (154,63), (116,153), (164,117)], [(48,63), (23,2), (174,53), (154,63), (85,130), (109,146), (116,43), (79,7), (27,84), (16,158), (120,138), (173,11), (173,10), (142,189), (110,67), (106,126), (75,83), (9,30), (116,153), (126,166), (38,103), (129,23), (63,181), (164,117), (4,147)], [(38,103), (75,83), (116,43), (79,7), (173,10), (109,146), (129,23), (106,126), (85,130), (4,147), (120,138), (164,117), (126,166), (154,63), (23,2), (174,53), (173,11), (116,153), (9,30), (27,84), (63,181), (110,67), (142,189), (16,158), (48,63)], [(85,130), (9,30), (38,103), (174,53), (154,63), (126,166), (16,158), (4,147), (116,43), (164,117), (109,146), (75,83), (110,67), (142,189), (79,7), (27,84), (120,138), (23,2), (106,126), (48,63), (63,181), (173,10), (129,23), (173,11), (116,153)], [(110,67), (173,10), (75,83), (4,147), (109,146), (48,63), (63,181), (126,166), (23,2), (38,103), (142,189), (164,117), (116,153), (106,126), (16,158), (85,130), (120,138), (79,7), (129,23), (174,53), (154,63), (27,84), (173,11), (9,30), (116,43)], [(110,67), (75,83), (4,147), (79,7), (106,126), (85,130), (27,84), (164,117), (116,153), (120,138), (173,10), (129,23), (23,2), (154,63), (9,30), (38,103), (48,63), (173,11), (126,166), (142,189), (174,53), (109,146), (16,158), (63,181), (116,43)], [(129,23), (85,130), (79,7), (106,126), (48,63), (63,181), (142,189), (173,11), (126,166), (75,83), (110,67), (4,147), (164,117), (173,10), (174,53), (116,43), (9,30), (120,138), (23,2), (154,63), (38,103), (27,84), (16,158), (116,153), (109,146)], [(63,181), (106,126), (110,67), (173,11), (129,23), (142,189), (120,138), (75,83), (27,84), (4,147), (48,63), (174,53), (38,103), (23,2), (116,43), (154,63), (164,117), (109,146), (85,130), (173,10), (79,7), (116,153), (126,166), (9,30), (16,158)], [(4,147), (23,2), (85,130), (126,166), (164,117), (75,83), (154,63), (142,189), (106,126), (120,138), (9,30), (116,43), (48,63), (16,158), (27,84), (173,10), (129,23), (110,67), (63,181), (109,146), (79,7), (173,11), (38,103), (116,153), (174,53)], [(126,166), (116,153), (142,189), (23,2), (109,146), (154,63), (75,83), (174,53), (120,138), (48,63), (16,158), (164,117), (79,7), (129,23), (106,126), (173,11), (9,30), (116,43), (110,67), (173,10), (38,103), (27,84), (63,181), (4,147), (85,130)], [(174,53), (173,11), (164,117), (85,130), (16,158), (109,146), (106,126), (116,153), (129,23), (4,147), (9,30), (126,166), (142,189), (154,63), (48,63), (23,2), (63,181), (173,10), (38,103), (110,67), (120,138), (27,84), (116,43), (79,7), (75,83)], [(23,2), (173,10), (120,138), (63,181), (116,153), (129,23), (164,117), (116,43), (85,130), (126,166), (38,103), (79,7), (48,63), (142,189), (27,84), (174,53), (173,11), (4,147), (154,63), (110,67), (16,158), (106,126), (75,83), (9,30), (109,146)], [(63,181), (38,103), (164,117), (109,146), (142,189), (116,43), (154,63), (75,83), (129,23), (106,126), (120,138), (85,130), (126,166), (9,30), (23,2), (16,158), (173,10), (116,153), (27,84), (48,63), (174,53), (4,147), (173,11), (110,67), (79,7)], [(154,63), (85,130), (38,103), (116,43), (110,67), (63,181), (16,158), (48,63), (142,189), (4,147), (126,166), (164,117), (23,2), (116,153), (173,11), (174,53), (106,126), (109,146), (120,138), (129,23), (79,7), (75,83), (9,30), (27,84), (173,10)], [(173,10), (23,2), (4,147), (27,84), (75,83), (63,181), (120,138), (116,153), (154,63), (174,53), (116,43), (173,11), (48,63), (79,7), (110,67), (85,130), (126,166), (38,103), (106,126), (9,30), (16,158), (164,117), (142,189), (109,146), (129,23)], [(120,138), (126,166), (9,30), (16,158), (38,103), (174,53), (142,189), (79,7), (23,2), (173,11), (85,130), (154,63), (110,67), (48,63), (106,126), (4,147), (116,153), (63,181), (75,83), (27,84), (109,146), (164,117), (116,43), (173,10), (129,23)], [(16,158), (4,147), (174,53), (9,30), (126,166), (142,189), (110,67), (85,130), (106,126), (75,83), (27,84), (164,117), (116,153), (116,43), (173,11), (79,7), (23,2), (154,63), (109,146), (38,103), (173,10), (63,181), (120,138), (48,63), (129,23)], [(173,10), (9,30), (109,146), (164,117), (4,147), (173,11), (27,84), (126,166), (106,126), (63,181), (79,7), (120,138), (154,63), (85,130), (23,2), (174,53), (75,83), (48,63), (16,158), (129,23), (142,189), (110,67), (116,153), (116,43), (38,103)], [(9,30), (120,138), (63,181), (126,166), (27,84), (75,83), (16,158), (173,10), (164,117), (23,2), (173,11), (116,153), (154,63), (85,130), (4,147), (109,146), (116,43), (142,189), (129,23), (79,7), (106,126), (48,63), (110,67), (38,103), (174,53)], [(120,138), (109,146), (126,166), (142,189), (38,103), (63,181), (75,83), (110,67), (174,53), (48,63), (9,30), (173,11), (164,117), (154,63), (27,84), (106,126), (23,2), (4,147), (116,43), (79,7), (173,10), (85,130), (16,158), (116,153), (129,23)], [(173,10), (106,126), (9,30), (142,189), (75,83), (23,2), (164,117), (126,166), (48,63), (63,181), (4,147), (109,146), (27,84), (85,130), (110,67), (129,23), (116,43), (173,11), (116,153), (79,7), (120,138), (38,103), (154,63), (16,158), (174,53)], [(116,153), (120,138), (110,67), (75,83), (164,117), (173,11), (116,43), (9,30), (106,126), (38,103), (48,63), (142,189), (129,23), (109,146), (154,63), (174,53), (23,2), (4,147), (79,7), (16,158), (27,84), (126,166), (173,10), (63,181), (85,130)], [(126,166), (23,2), (164,117), (75,83), (85,130), (142,189), (116,153), (63,181), (154,63), (120,138), (9,30), (116,43), (109,146), (173,10), (38,103), (173,11), (48,63), (174,53), (79,7), (4,147), (110,67), (129,23), (27,84), (106,126), (16,158)], [(75,83), (173,10), (116,153), (4,147), (154,63), (106,126), (173,11), (79,7), (126,166), (120,138), (116,43), (85,130), (109,146), (164,117), (110,67), (48,63), (174,53), (23,2), (63,181), (142,189), (9,30), (38,103), (129,23), (27,84), (16,158)], [(174,53), (173,11), (126,166), (106,126), (38,103), (63,181), (16,158), (110,67), (23,2), (75,83), (173,10), (9,30), (164,117), (27,84), (79,7), (142,189), (109,146), (116,153), (4,147), (154,63), (129,23), (48,63), (116,43), (120,138), (85,130)], [(106,126), (79,7), (116,43), (63,181), (110,67), (4,147), (154,63), (9,30), (173,11), (164,117), (129,23), (85,130), (16,158), (109,146), (120,138), (174,53), (126,166), (38,103), (116,153), (142,189), (27,84), (173,10), (48,63), (23,2), (75,83)], [(116,153), (75,83), (173,10), (109,146), (27,84), (154,63), (79,7), (48,63), (129,23), (174,53), (110,67), (23,2), (63,181), (126,166), (173,11), (116,43), (4,147), (106,126), (85,130), (9,30), (142,189), (16,158), (38,103), (120,138), (164,117)], [(116,153), (9,30), (79,7), (75,83), (16,158), (173,11), (23,2), (63,181), (106,126), (154,63), (110,67), (126,166), (120,138), (174,53), (164,117), (38,103), (129,23), (116,43), (85,130), (48,63), (109,146), (173,10), (4,147), (142,189), (27,84)], [(174,53), (173,11), (116,153), (85,130), (23,2), (126,166), (4,147), (154,63), (75,83), (142,189), (27,84), (109,146), (16,158), (106,126), (120,138), (164,117), (38,103), (79,7), (129,23), (110,67), (116,43), (173,10), (63,181), (9,30), (48,63)], [(63,181), (154,63), (106,126), (110,67), (173,11), (9,30), (27,84), (109,146), (174,53), (126,166), (116,43), (16,158), (85,130), (75,83), (79,7), (120,138), (23,2), (116,153), (142,189), (164,117), (129,23), (48,63), (173,10), (38,103), (4,147)], [(142,189), (75,83), (174,53), (79,7), (27,84), (85,130), (9,30), (63,181), (164,117), (126,166), (48,63), (38,103), (173,10), (120,138), (16,158), (23,2), (106,126), (129,23), (4,147), (110,67), (116,43), (109,146), (154,63), (116,153), (173,11)], [(173,11), (9,30), (38,103), (85,130), (109,146), (63,181), (75,83), (174,53), (129,23), (142,189), (23,2), (116,43), (126,166), (173,10), (48,63), (154,63), (79,7), (116,153), (120,138), (4,147), (27,84), (164,117), (110,67), (106,126), (16,158)], [(75,83), (48,63), (110,67), (4,147), (174,53), (27,84), (116,43), (16,158), (38,103), (85,130), (109,146), (9,30), (129,23), (23,2), (142,189), (173,11), (79,7), (126,166), (63,181), (116,153), (173,10), (106,126), (154,63), (120,138), (164,117)], [(173,10), (142,189), (4,147), (75,83), (38,103), (23,2), (110,67), (116,153), (164,117), (106,126), (174,53), (48,63), (109,146), (27,84), (79,7), (154,63), (129,23), (63,181), (116,43), (85,130), (120,138), (9,30), (16,158), (126,166), (173,11)], [(142,189), (164,117), (38,103), (173,10), (48,63), (110,67), (109,146), (4,147), (116,153), (154,63), (174,53), (120,138), (23,2), (129,23), (116,43), (126,166), (27,84), (16,158), (9,30), (79,7), (173,11), (106,126), (75,83), (85,130), (63,181)], [(120,138), (126,166), (63,181), (109,146), (110,67), (4,147), (106,126), (142,189), (75,83), (85,130), (116,153), (9,30), (48,63), (27,84), (173,11), (79,7), (16,158), (164,117), (173,10), (154,63), (174,53), (38,103), (129,23), (116,43), (23,2)], [(129,23), (120,138), (109,146), (174,53), (142,189), (116,153), (16,158), (48,63), (154,63), (63,181), (4,147), (23,2), (116,43), (9,30), (75,83), (164,117), (38,103), (173,10), (85,130), (126,166), (79,7), (110,67), (27,84), (106,126), (173,11)], [(142,189), (106,126), (27,84), (4,147), (110,67), (79,7), (109,146), (16,158), (173,11), (63,181), (126,166), (116,43), (75,83), (9,30), (174,53), (120,138), (173,10), (154,63), (38,103), (116,153), (164,117), (48,63), (85,130), (23,2), (129,23)], [(106,126), (38,103), (75,83), (142,189), (110,67), (79,7), (16,158), (174,53), (4,147), (9,30), (116,43), (116,153), (154,63), (173,10), (23,2), (126,166), (129,23), (85,130), (27,84), (109,146), (173,11), (48,63), (164,117), (63,181), (120,138)], [(79,7), (110,67), (63,181), (75,83), (173,11), (106,126), (164,117), (142,189), (4,147), (154,63), (9,30), (23,2), (16,158), (109,146), (120,138), (116,153), (129,23), (126,166), (27,84), (173,10), (48,63), (38,103), (116,43), (174,53), (85,130)], [(48,63), (110,67), (106,126), (9,30), (75,83), (85,130), (164,117), (16,158), (27,84), (63,181), (23,2), (109,146), (173,11), (120,138), (38,103), (116,43), (116,153), (154,63), (4,147), (126,166), (142,189), (79,7), (174,53), (173,10), (129,23)], [(106,126), (109,146), (173,10), (164,117), (63,181), (23,2), (85,130), (79,7), (116,153), (126,166), (120,138), (129,23), (4,147), (110,67), (38,103), (48,63), (75,83), (16,158), (173,11), (154,63), (9,30), (142,189), (116,43), (174,53), (27,84)], [(27,84), (142,189), (154,63), (129,23), (120,138), (116,153), (85,130), (16,158), (9,30), (164,117), (79,7), (63,181), (126,166), (173,10), (48,63), (38,103), (173,11), (116,43), (23,2), (75,83), (109,146), (4,147), (174,53), (106,126), (110,67)], [(38,103), (173,11), (9,30), (27,84), (109,146), (48,63), (174,53), (173,10), (4,147), (106,126), (16,158), (142,189), (126,166), (75,83), (129,23), (110,67), (63,181), (116,153), (23,2), (116,43), (85,130), (154,63), (120,138), (164,117), (79,7)], [(85,130), (126,166), (23,2), (109,146), (48,63), (16,158), (106,126), (173,10), (164,117), (142,189), (4,147), (75,83), (79,7), (9,30), (129,23), (174,53), (116,43), (173,11), (120,138), (116,153), (63,181), (154,63), (27,84), (38,103), (110,67)], [(129,23), (106,126), (79,7), (85,130), (38,103), (173,10), (116,153), (142,189), (173,11), (23,2), (16,158), (116,43), (9,30), (27,84), (4,147), (164,117), (63,181), (109,146), (110,67), (120,138), (48,63), (126,166), (75,83), (174,53), (154,63)], [(129,23), (110,67), (106,126), (174,53), (154,63), (85,130), (173,11), (142,189), (116,153), (75,83), (120,138), (173,10), (38,103), (164,117), (4,147), (16,158), (23,2), (9,30), (116,43), (79,7), (63,181), (109,146), (126,166), (48,63), (27,84)], [(23,2), (142,189), (63,181), (48,63), (173,10), (173,11), (116,153), (174,53), (85,130), (9,30), (4,147), (154,63), (116,43), (164,117), (126,166), (79,7), (110,67), (27,84), (75,83), (38,103), (120,138), (106,126), (109,146), (129,23), (16,158)], [(173,11), (38,103), (23,2), (16,158), (174,53), (164,117), (63,181), (79,7), (4,147), (85,130), (106,126), (120,138), (75,83), (154,63), (116,43), (142,189), (48,63), (116,153), (109,146), (110,67), (27,84), (129,23), (126,166), (173,10), (9,30)], [(174,53), (116,153), (38,103), (48,63), (85,130), (129,23), (116,43), (63,181), (142,189), (106,126), (79,7), (120,138), (154,63), (173,10), (164,117), (109,146), (126,166), (173,11), (16,158), (9,30), (27,84), (4,147), (110,67), (75,83), (23,2)], [(9,30), (173,11), (63,181), (164,117), (48,63), (27,84), (116,43), (173,10), (120,138), (129,23), (85,130), (16,158), (126,166), (142,189), (110,67), (116,153), (109,146), (174,53), (75,83), (38,103), (154,63), (23,2), (4,147), (79,7), (106,126)], [(129,23), (27,84), (75,83), (173,10), (106,126), (9,30), (174,53), (23,2), (120,138), (79,7), (63,181), (173,11), (85,130), (110,67), (109,146), (48,63), (116,153), (38,103), (154,63), (16,158), (126,166), (164,117), (116,43), (4,147), (142,189)], [(79,7), (173,11), (75,83), (9,30), (85,130), (173,10), (174,53), (116,43), (27,84), (16,158), (110,67), (4,147), (48,63), (120,138), (116,153), (142,189), (63,181), (164,117), (23,2), (129,23), (126,166), (38,103), (109,146), (106,126), (154,63)], [(9,30), (116,153), (23,2), (126,166), (174,53), (129,23), (164,117), (63,181), (116,43), (48,63), (16,158), (142,189), (79,7), (106,126), (120,138), (4,147), (38,103), (75,83), (110,67), (173,10), (109,146), (27,84), (85,130), (154,63), (173,11)], [(79,7), (173,11), (142,189), (164,117), (27,84), (75,83), (116,43), (109,146), (154,63), (38,103), (110,67), (126,166), (48,63), (4,147), (174,53), (120,138), (106,126), (16,158), (85,130), (63,181), (9,30), (173,10), (23,2), (116,153), (129,23)], [(173,10), (23,2), (109,146), (75,83), (129,23), (116,153), (85,130), (126,166), (4,147), (154,63), (174,53), (79,7), (63,181), (116,43), (142,189), (110,67), (9,30), (48,63), (173,11), (27,84), (38,103), (16,158), (120,138), (106,126), (164,117)], [(174,53), (75,83), (109,146), (129,23), (63,181), (38,103), (27,84), (120,138), (106,126), (9,30), (110,67), (173,11), (48,63), (164,117), (116,43), (4,147), (142,189), (79,7), (154,63), (23,2), (173,10), (116,153), (16,158), (85,130), (126,166)], [(85,130), (116,43), (109,146), (16,158), (79,7), (173,11), (4,147), (9,30), (63,181), (129,23), (110,67), (27,84), (120,138), (48,63), (142,189), (106,126), (164,117), (154,63), (116,153), (173,10), (75,83), (174,53), (38,103), (126,166), (23,2)]]\n",
      "Initial distance: 1646.2095592830326\n"
     ]
    },
    {
     "name": "stdout",
     "output_type": "stream",
     "text": [
      "Final distance: 948.1795449975788\n"
     ]
    },
    {
     "data": {
      "text/plain": [
       "[(27,84),\n",
       " (38,103),\n",
       " (4,147),\n",
       " (16,158),\n",
       " (63,181),\n",
       " (109,146),\n",
       " (116,153),\n",
       " (126,166),\n",
       " (142,189),\n",
       " (120,138),\n",
       " (85,130),\n",
       " (106,126),\n",
       " (164,117),\n",
       " (154,63),\n",
       " (174,53),\n",
       " (173,11),\n",
       " (173,10),\n",
       " (129,23),\n",
       " (116,43),\n",
       " (110,67),\n",
       " (75,83),\n",
       " (48,63),\n",
       " (9,30),\n",
       " (23,2),\n",
       " (79,7)]"
      ]
     },
     "execution_count": 35,
     "metadata": {},
     "output_type": "execute_result"
    }
   ],
   "source": [
    "geneticAlgorithm(population=cityList, popSize=100, eliteSize=15, mutationRate=0.01, generations=500)"
   ]
  },
  {
   "cell_type": "code",
   "execution_count": 38,
   "metadata": {},
   "outputs": [
    {
     "data": {
      "image/png": "[encoded data removed]",
      "text/plain": [
       "<Figure size 432x288 with 1 Axes>"
      ]
     },
     "metadata": {
      "needs_background": "light"
     },
     "output_type": "display_data"
    }
   ],
   "source": [
    "geneticAlgorithmPlot(population=cityList, popSize=100, eliteSize=20, mutationRate=0.01, generations=500)"
   ]
  },
  {
   "cell_type": "code",
   "execution_count": null,
   "metadata": {},
   "outputs": [],
   "source": [
    "\n",
    "\n",
    "\n",
    "\n",
    "+"
   ]
  }
 ],
 "metadata": {
  "colab": {
   "name": "Untitled11.ipynb",
   "provenance": []
  },
  "kernelspec": {
   "display_name": "Python 3",
   "language": "python",
   "name": "python3"
  },
  "language_info": {
   "codemirror_mode": {
    "name": "ipython",
    "version": 3
   },
   "file_extension": ".py",
   "mimetype": "text/x-python",
   "name": "python",
   "nbconvert_exporter": "python",
   "pygments_lexer": "ipython3",
   "version": "3.7.1"
  }
 },
 "nbformat": 4,
 "nbformat_minor": 1
}
